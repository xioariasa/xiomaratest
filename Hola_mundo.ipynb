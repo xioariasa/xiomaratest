{
  "nbformat": 4,
  "nbformat_minor": 0,
  "metadata": {
    "colab": {
      "name": "Hola_mundo.ipynb",
      "provenance": [],
      "collapsed_sections": [],
      "toc_visible": true,
      "include_colab_link": true
    },
    "kernelspec": {
      "name": "python3",
      "display_name": "Python 3"
    },
    "language_info": {
      "name": "python"
    }
  },
  "cells": [
    {
      "cell_type": "markdown",
      "metadata": {
        "id": "view-in-github",
        "colab_type": "text"
      },
      "source": [
        "<a href=\"https://colab.research.google.com/github/xioariasa/xiomaratest/blob/master/Hola_mundo.ipynb\" target=\"_parent\"><img src=\"https://colab.research.google.com/assets/colab-badge.svg\" alt=\"Open In Colab\"/></a>"
      ]
    },
    {
      "cell_type": "markdown",
      "metadata": {
        "id": "DjpHk1kMPMV_"
      },
      "source": [
        "# Laboratorio 2.1\n",
        "\n",
        "*Elaborado por Oscar Franco-Bedoya*\n",
        "\n",
        "*`Proyecto Mision TIC 202`*\n",
        "\n",
        "\n",
        "## Objetivo\n",
        "En este primer laboratorio vamos a escribir nuestro primer programa y fieles a la tradición, será uno que salude con un mensaje ya famoso en el mundillo de los programadores *hola mundo * ( [si quieres saber la historia d este mensaje dale click](https://g.co/kgs/wxJZpH))\n",
        "\n",
        "\n",
        "---\n",
        "Recuerda que los laboratorios son ejercicios no evaluables pero que ayudan a que entiendas los conceptos y practiques las instrucciones en Python que luego puedes aplicar en los talleres y retos.\n",
        "\n",
        "\n",
        "---\n",
        "## Importante\n",
        "\n",
        "Antes de iniciar cualquier laboratorio en esta plataforma debes reiniciar el **Entorno de ejecución (Runtime**):\n",
        "*   En la barra del menú selecciona **entorno de ejecución**\n",
        "*   y luego selecciona la opción **Reiniciar entorno de ejecución** (Restart runtime)\n",
        "\n",
        "\n",
        "---\n",
        "## Programa\n",
        "Escribir un programa que salude en pantalla con el texto ***Hola Mundo***\n",
        "\n"
      ]
    },
    {
      "cell_type": "markdown",
      "metadata": {
        "id": "9e5LL8oUQpJy"
      },
      "source": [
        ""
      ]
    },
    {
      "cell_type": "code",
      "metadata": {
        "id": "AX_xwEKvCQcU",
        "outputId": "77ddc073-7323-41cf-d7d1-ef0a653861bb",
        "colab": {
          "base_uri": "https://localhost:8080/"
        }
      },
      "source": [
        "# Esta línea es un comentario y el interprete de Python que está en la Nube la ignora\n",
        "# Para ejecutarlo presiona el boton play en la esquina supeior derecha de esta celda o selecciona la opción Entorno de ejecución-- Ejecutar selección, asegurate de estar ubicado en esta celda \n",
        "# Primer programa  Saludo al Mundo \n",
        "print('Hola Mundo')"
      ],
      "execution_count": 1,
      "outputs": [
        {
          "output_type": "stream",
          "text": [
            "Hola Mundo\n"
          ],
          "name": "stdout"
        }
      ]
    },
    {
      "cell_type": "markdown",
      "metadata": {
        "id": "9xwuDth8TfgV"
      },
      "source": [
        "## Aprendamos de los errores\n",
        "Realiza los siguientes cambios al programa en la celda anterior, para que veas mensajes de error generados por una sintaxis incorrecta, luego los corriges y asi vas probando uno a uno:\n",
        "\n",
        "\n",
        "*   Pon la P de la instrucción `print` en mayúscula\n",
        "*   Ejecuta de nuevo el programa, analiza el error  \n",
        "*   Corrige y asegúrate que ya no genera error\n",
        "*   Quita el parentesis derecho de la instrucción\n",
        "*   Ejecuta de nuevo el programa, analiza el error  \n",
        "*   Corrige y asegúrate que ya no genera error\n",
        "*   Quita el parentesis izquierdo de la instrucción\n",
        "*   Ejecuta de nuevo el programa, analiza el error  \n",
        "*   Corrige y asegúrate que ya no genera error\n",
        "*   Quita una de las comillas de la instrucción\n",
        "*   Ejecuta de nuevo el programa, analiza el error  \n",
        "*   Corrige y asegúrate que ya no genera error\n",
        "*   Quita ambas comillas de la instrucción\n",
        "*   Ejecuta de nuevo el programa, analiza el error  \n",
        "*   Corrige y asegúrate que ya no genera error\n",
        "*   Corrige y asegúrate que ya no genera error\n",
        "*   Pon un espacio antes de la instrucción print (identado)\n",
        "*   Ejecuta de nuevo el programa, analiza el error  \n",
        "*   Corrige y asegúrate que ya no genera error\n",
        "*   Escribe Hola sin H\n",
        "*   Reemplaza las comillas simples por comillas dobles\n",
        "\n",
        "## Ejercicios\n",
        "### Poliglota\n",
        "Utilizando la instrucción print escriba un programa que salude en Español, Inglés y Portugués."
      ]
    },
    {
      "cell_type": "code",
      "metadata": {
        "id": "w7vnwm1pTfI8",
        "outputId": "1a4e700c-c960-487f-b64f-8ab203905319",
        "colab": {
          "base_uri": "https://localhost:8080/"
        }
      },
      "source": [
        "#escribe tu programa justo aqui\n",
        "print('Hola Mundo')\n",
        "print('Olá Mundo')\n",
        "print('Hello World')"
      ],
      "execution_count": 2,
      "outputs": [
        {
          "output_type": "stream",
          "text": [
            "Hola Mundo\n",
            "Olá Mundo\n",
            "Hello World\n"
          ],
          "name": "stdout"
        }
      ]
    },
    {
      "cell_type": "markdown",
      "metadata": {
        "id": "j_zPR9euXDFh"
      },
      "source": [
        "<details>\n",
        "<summary>Dale a la flecha si necesitas una pista</summary>\n",
        "<pre><code>\n",
        "    print('')\n",
        "    print('')\n",
        "    print('')\n",
        "<code><pre>\n",
        "</details>"
      ]
    },
    {
      "cell_type": "markdown",
      "metadata": {
        "id": "XO9dZXgfYOO4"
      },
      "source": [
        "### Mundo ASCII\n",
        "\n",
        "R2D2 o Arturito es uno de los robots mas famosos de la galaxía y nos han solicitado que escribamos un programa que lo dibuje en un mundo 2D, asi como se presenta en esta foto (Tomada en pose natural)\n",
        "\n",
        "<img height=\"150px\" src=\"https://drive.google.com/thumbnail?id=1sVOmqG3nhqbb-INLgaXANjSGGQYel5a5\" align=\"left\" hspace=\"5px\" vspace=\"0\n",
        "px\">\n",
        "\n"
      ]
    },
    {
      "cell_type": "code",
      "metadata": {
        "id": "lK7h392yauTM"
      },
      "source": [
        "#escribe tu programa justo aqui\n",
        "print(\"   ____    \")\n",
        "print(\"  / ()   )\n"
      ],
      "execution_count": null,
      "outputs": []
    },
    {
      "cell_type": "markdown",
      "metadata": {
        "id": "uPwQEUnTa0X3"
      },
      "source": [
        "<details>\n",
        "<summary>Dale a la flecha si necesitas una pista</summary>\n",
        "<pre><code>\n",
        "print(\"    _____    \")\n",
        "print(\"   /  () \\   \")\n",
        "print(\" _|_______|_ \")\n",
        "print(\"/=\\  /=\\  /=\\ \")\n",
        "print(\"[ ]  [ ]  [ ] \")\n",
        "<code><pre>\n",
        "</details>"
      ]
    },
    {
      "cell_type": "markdown",
      "metadata": {
        "id": "qj9KN_6Qqco6"
      },
      "source": [
        "\n",
        "\n",
        "---\n",
        "\n",
        "\n",
        "# Fin del Laboratorio\n",
        "\n",
        "\n",
        "---\n",
        "\n",
        "\n"
      ]
    }
  ]
}